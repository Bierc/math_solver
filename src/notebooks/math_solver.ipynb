{
 "cells": [
  {
   "cell_type": "code",
   "execution_count": 21,
   "metadata": {},
   "outputs": [],
   "source": [
    "import pytesseract\n",
    "import cv2\n",
    "import numpy as np\n",
    "import sympy as sp\n",
    "import re\n",
    "from latex2sympy2 import latex2sympy\n",
    "pytesseract.pytesseract.tesseract_cmd = 'C:\\\\Program Files\\\\Tesseract-OCR\\\\tesseract.exe'"
   ]
  },
  {
   "cell_type": "code",
   "execution_count": 12,
   "metadata": {},
   "outputs": [],
   "source": [
    "IMAGE = '../data/equation2.jpeg'"
   ]
  },
  {
   "cell_type": "code",
   "execution_count": 13,
   "metadata": {},
   "outputs": [],
   "source": [
    "def preprocess_image(image_path):\n",
    "    image = cv2.imread(image_path, cv2.IMREAD_COLOR)\n",
    "    gray = cv2.cvtColor(image, cv2.COLOR_BGR2GRAY)\n",
    "    _, thresh = cv2.threshold(gray, 128, 255, cv2.THRESH_BINARY_INV)\n",
    "    return thresh\n",
    "\n",
    "image_path = IMAGE\n",
    "processed_image = preprocess_image(image_path)\n",
    "cv2.imshow('Processed Image', processed_image)\n",
    "cv2.waitKey(0)\n",
    "cv2.destroyAllWindows()"
   ]
  },
  {
   "cell_type": "code",
   "execution_count": 14,
   "metadata": {},
   "outputs": [
    {
     "name": "stdout",
     "output_type": "stream",
     "text": [
      "6 + 2(14+2)\n",
      "\n"
     ]
    }
   ],
   "source": [
    "def ocr_image(image):\n",
    "    text = pytesseract.image_to_string(image, config='--psm 6')\n",
    "    return text\n",
    "\n",
    "equation_text = ocr_image(processed_image)\n",
    "print(equation_text)"
   ]
  },
  {
   "cell_type": "code",
   "execution_count": 15,
   "metadata": {},
   "outputs": [
    {
     "name": "stdout",
     "output_type": "stream",
     "text": [
      "6+2*(14+2)\n",
      "\n"
     ]
    }
   ],
   "source": [
    "def parse_equation(equation_text):\n",
    "    equation_text = equation_text.replace(' ', '').replace('(','*(')\n",
    "    \n",
    "    # Optionally, further clean up the equation text\n",
    "    return equation_text\n",
    "\n",
    "parsed_equation = parse_equation(equation_text)\n",
    "print(parsed_equation)"
   ]
  },
  {
   "cell_type": "code",
   "execution_count": 16,
   "metadata": {},
   "outputs": [
    {
     "name": "stdout",
     "output_type": "stream",
     "text": [
      "38\n"
     ]
    }
   ],
   "source": [
    "def solve_equation(equation):\n",
    "    try:\n",
    "        result = sp.sympify(equation)\n",
    "        return result\n",
    "    except (sp.SympifyError, ValueError):\n",
    "        return \"Invalid Equation\"\n",
    "\n",
    "result = solve_equation(parsed_equation)\n",
    "print(result)"
   ]
  },
  {
   "cell_type": "code",
   "execution_count": 31,
   "metadata": {},
   "outputs": [],
   "source": [
    "def latex_to_sympy(latex_equation):\n",
    "    try:\n",
    "        # Convert LaTeX equation to SymPy expression\n",
    "        sympy_expr = latex2sympy(latex_equation)\n",
    "        return sympy_expr\n",
    "    except Exception as e:\n",
    "        return f\"Error in conversion: {e}\""
   ]
  },
  {
   "cell_type": "code",
   "execution_count": 32,
   "metadata": {},
   "outputs": [
    {
     "name": "stdout",
     "output_type": "stream",
     "text": [
      "{x: 5}\n"
     ]
    }
   ],
   "source": [
    "x = sp.symbols('x')\n",
    "equation = r'(x+2)(x-5)=x^{2}-2x-15'\n",
    "sympy_expr = latex_to_sympy(equation)\n",
    "result = sp.solve(sympy_expr, x)\n",
    "print(result)"
   ]
  }
 ],
 "metadata": {
  "kernelspec": {
   "display_name": "Python 3",
   "language": "python",
   "name": "python3"
  },
  "language_info": {
   "codemirror_mode": {
    "name": "ipython",
    "version": 3
   },
   "file_extension": ".py",
   "mimetype": "text/x-python",
   "name": "python",
   "nbconvert_exporter": "python",
   "pygments_lexer": "ipython3",
   "version": "3.12.4"
  }
 },
 "nbformat": 4,
 "nbformat_minor": 2
}
