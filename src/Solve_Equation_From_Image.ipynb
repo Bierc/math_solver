{
 "cells": [
  {
   "cell_type": "code",
   "execution_count": 136,
   "metadata": {},
   "outputs": [],
   "source": [
    "# Importando a biblioteca para manipulação de imagens\n",
    "from PIL import Image\n",
    "# Importando a biblioteca para reconhecimento de texto em LaTeX a partir de imagens\n",
    "from pix2tex.cli import LatexOCR"
   ]
  },
  {
   "cell_type": "code",
   "execution_count": 137,
   "metadata": {},
   "outputs": [
    {
     "data": {
      "image/png": "[encoded data removed]",
      "text/plain": [
       "<PIL.PngImagePlugin.PngImageFile image mode=RGBA size=317x61>"
      ]
     },
     "execution_count": 137,
     "metadata": {},
     "output_type": "execute_result"
    }
   ],
   "source": [
    "# Abrindo a imagem que contém a equação\n",
    "img = Image.open('C:\\\\UTFPR\\\\24_1\\\\math_solver\\\\data\\\\eq10.png')\n",
    "img"
   ]
  },
  {
   "cell_type": "code",
   "execution_count": 138,
   "metadata": {},
   "outputs": [
    {
     "data": {
      "text/plain": [
       "<pix2tex.cli.LatexOCR at 0x2d443f1b8f0>"
      ]
     },
     "execution_count": 138,
     "metadata": {},
     "output_type": "execute_result"
    }
   ],
   "source": [
    "# Criando uma instância do modelo OCR para LaTeX\n",
    "model = LatexOCR()\n",
    "model"
   ]
  },
  {
   "cell_type": "code",
   "execution_count": 139,
   "metadata": {},
   "outputs": [
    {
     "data": {
      "text/plain": [
       "'\\\\scriptstyle{x^{2}-9\\\\,X+i S\\\\cdot6}'"
      ]
     },
     "execution_count": 139,
     "metadata": {},
     "output_type": "execute_result"
    }
   ],
   "source": [
    "# Convertendo a imagem para texto em LaTeX usando o modelo OCR\n",
    "latex_from_image = model(img)\n",
    "filtered_latex = latex_from_image\n",
    "latex_from_image\n"
   ]
  },
  {
   "cell_type": "code",
   "execution_count": 140,
   "metadata": {},
   "outputs": [
    {
     "data": {
      "text/plain": [
       "'\\\\scriptstyle{x^{2}-9\\\\,X+i S\\\\cdot6}'"
      ]
     },
     "execution_count": 140,
     "metadata": {},
     "output_type": "execute_result"
    }
   ],
   "source": [
    "# Trata casos de existência de igualdade sem valor\n",
    "latex_str = latex_from_image.strip()\n",
    "if \"=\" in latex_str:\n",
    "    # Dividir a equação em lado esquerdo e direito\n",
    "    left, right = latex_str.split(\"=\")\n",
    "    left = left.strip()\n",
    "    right = right.strip()\n",
    "    if not left and not right:\n",
    "        raise(\"Não tem equação\")\n",
    "    if not left:\n",
    "        filtered_latex = right\n",
    "    elif not right:\n",
    "        filtered_latex = left\n",
    "    else:\n",
    "        filtered_latex = latex_from_image\n",
    "filtered_latex"
   ]
  },
  {
   "cell_type": "code",
   "execution_count": 141,
   "metadata": {},
   "outputs": [],
   "source": [
    "# Importando a biblioteca para manipulação de expressões matemáticas\n",
    "import sympy as sp"
   ]
  },
  {
   "cell_type": "code",
   "execution_count": 142,
   "metadata": {},
   "outputs": [],
   "source": [
    "from latex2sympy2 import latex2sympy"
   ]
  },
  {
   "cell_type": "code",
   "execution_count": 143,
   "metadata": {},
   "outputs": [
    {
     "ename": "Exception",
     "evalue": "I don't understand this\n\\scriptstyle{x^{2}-9 X+i S\\cdot6}\n^",
     "output_type": "error",
     "traceback": [
      "\u001b[1;31m---------------------------------------------------------------------------\u001b[0m",
      "\u001b[1;31mLexerNoViableAltException\u001b[0m                 Traceback (most recent call last)",
      "File \u001b[1;32mc:\\UTFPR\\24_1\\math_solver\\.venv\\Lib\\site-packages\\antlr4\\Lexer.py:128\u001b[0m, in \u001b[0;36mLexer.nextToken\u001b[1;34m(self)\u001b[0m\n\u001b[0;32m    127\u001b[0m \u001b[38;5;28;01mtry\u001b[39;00m:\n\u001b[1;32m--> 128\u001b[0m     ttype \u001b[38;5;241m=\u001b[39m \u001b[38;5;28;43mself\u001b[39;49m\u001b[38;5;241;43m.\u001b[39;49m\u001b[43m_interp\u001b[49m\u001b[38;5;241;43m.\u001b[39;49m\u001b[43mmatch\u001b[49m\u001b[43m(\u001b[49m\u001b[38;5;28;43mself\u001b[39;49m\u001b[38;5;241;43m.\u001b[39;49m\u001b[43m_input\u001b[49m\u001b[43m,\u001b[49m\u001b[43m \u001b[49m\u001b[38;5;28;43mself\u001b[39;49m\u001b[38;5;241;43m.\u001b[39;49m\u001b[43m_mode\u001b[49m\u001b[43m)\u001b[49m\n\u001b[0;32m    129\u001b[0m \u001b[38;5;28;01mexcept\u001b[39;00m LexerNoViableAltException \u001b[38;5;28;01mas\u001b[39;00m e:\n",
      "File \u001b[1;32mc:\\UTFPR\\24_1\\math_solver\\.venv\\Lib\\site-packages\\antlr4\\atn\\LexerATNSimulator.py:99\u001b[0m, in \u001b[0;36mLexerATNSimulator.match\u001b[1;34m(self, input, mode)\u001b[0m\n\u001b[0;32m     98\u001b[0m     \u001b[38;5;28;01melse\u001b[39;00m:\n\u001b[1;32m---> 99\u001b[0m         \u001b[38;5;28;01mreturn\u001b[39;00m \u001b[38;5;28;43mself\u001b[39;49m\u001b[38;5;241;43m.\u001b[39;49m\u001b[43mexecATN\u001b[49m\u001b[43m(\u001b[49m\u001b[38;5;28;43minput\u001b[39;49m\u001b[43m,\u001b[49m\u001b[43m \u001b[49m\u001b[43mdfa\u001b[49m\u001b[38;5;241;43m.\u001b[39;49m\u001b[43ms0\u001b[49m\u001b[43m)\u001b[49m\n\u001b[0;32m    100\u001b[0m \u001b[38;5;28;01mfinally\u001b[39;00m:\n",
      "File \u001b[1;32mc:\\UTFPR\\24_1\\math_solver\\.venv\\Lib\\site-packages\\antlr4\\atn\\LexerATNSimulator.py:191\u001b[0m, in \u001b[0;36mLexerATNSimulator.execATN\u001b[1;34m(self, input, ds0)\u001b[0m\n\u001b[0;32m    189\u001b[0m     s \u001b[38;5;241m=\u001b[39m target \u001b[38;5;66;03m# flip; current DFA target becomes new src/from state\u001b[39;00m\n\u001b[1;32m--> 191\u001b[0m \u001b[38;5;28;01mreturn\u001b[39;00m \u001b[38;5;28;43mself\u001b[39;49m\u001b[38;5;241;43m.\u001b[39;49m\u001b[43mfailOrAccept\u001b[49m\u001b[43m(\u001b[49m\u001b[38;5;28;43mself\u001b[39;49m\u001b[38;5;241;43m.\u001b[39;49m\u001b[43mprevAccept\u001b[49m\u001b[43m,\u001b[49m\u001b[43m \u001b[49m\u001b[38;5;28;43minput\u001b[39;49m\u001b[43m,\u001b[49m\u001b[43m \u001b[49m\u001b[43ms\u001b[49m\u001b[38;5;241;43m.\u001b[39;49m\u001b[43mconfigs\u001b[49m\u001b[43m,\u001b[49m\u001b[43m \u001b[49m\u001b[43mt\u001b[49m\u001b[43m)\u001b[49m\n",
      "File \u001b[1;32mc:\\UTFPR\\24_1\\math_solver\\.venv\\Lib\\site-packages\\antlr4\\atn\\LexerATNSimulator.py:250\u001b[0m, in \u001b[0;36mLexerATNSimulator.failOrAccept\u001b[1;34m(self, prevAccept, input, reach, t)\u001b[0m\n\u001b[0;32m    249\u001b[0m     \u001b[38;5;28;01mreturn\u001b[39;00m Token\u001b[38;5;241m.\u001b[39mEOF\n\u001b[1;32m--> 250\u001b[0m \u001b[38;5;28;01mraise\u001b[39;00m LexerNoViableAltException(\u001b[38;5;28mself\u001b[39m\u001b[38;5;241m.\u001b[39mrecog, \u001b[38;5;28minput\u001b[39m, \u001b[38;5;28mself\u001b[39m\u001b[38;5;241m.\u001b[39mstartIndex, reach)\n",
      "\u001b[1;31mLexerNoViableAltException\u001b[0m: LexerNoViableAltException('\\')",
      "\nDuring handling of the above exception, another exception occurred:\n",
      "\u001b[1;31mException\u001b[0m                                 Traceback (most recent call last)",
      "Cell \u001b[1;32mIn[143], line 1\u001b[0m\n\u001b[1;32m----> 1\u001b[0m expressao_sympy \u001b[38;5;241m=\u001b[39m \u001b[43mlatex2sympy\u001b[49m\u001b[43m(\u001b[49m\u001b[43mfiltered_latex\u001b[49m\u001b[43m)\u001b[49m\n\u001b[0;32m      2\u001b[0m \u001b[38;5;66;03m# expressao_sympy = latex2sympy('(x+2)(x-5)=x^{2}-2x-15')\u001b[39;00m\n\u001b[0;32m      3\u001b[0m \u001b[38;5;28mprint\u001b[39m(expressao_sympy)\n",
      "File \u001b[1;32mc:\\UTFPR\\24_1\\math_solver\\.venv\\Lib\\site-packages\\latex2sympy2.py:97\u001b[0m, in \u001b[0;36mlatex2sympy\u001b[1;34m(sympy, variable_values)\u001b[0m\n\u001b[0;32m     95\u001b[0m \u001b[38;5;66;03m# process the input\u001b[39;00m\n\u001b[0;32m     96\u001b[0m return_data \u001b[38;5;241m=\u001b[39m \u001b[38;5;28;01mNone\u001b[39;00m\n\u001b[1;32m---> 97\u001b[0m math \u001b[38;5;241m=\u001b[39m \u001b[43mparser\u001b[49m\u001b[38;5;241;43m.\u001b[39;49m\u001b[43mmath\u001b[49m\u001b[43m(\u001b[49m\u001b[43m)\u001b[49m\n\u001b[0;32m     99\u001b[0m \u001b[38;5;66;03m# if a list\u001b[39;00m\n\u001b[0;32m    100\u001b[0m \u001b[38;5;28;01mif\u001b[39;00m math\u001b[38;5;241m.\u001b[39mrelation_list():\n",
      "File \u001b[1;32mc:\\UTFPR\\24_1\\math_solver\\.venv\\Lib\\site-packages\\gen\\PSParser.py:1017\u001b[0m, in \u001b[0;36mPSParser.math\u001b[1;34m(self)\u001b[0m\n\u001b[0;32m   1014\u001b[0m \u001b[38;5;28;01mdef\u001b[39;00m \u001b[38;5;21mmath\u001b[39m(\u001b[38;5;28mself\u001b[39m):\n\u001b[0;32m   1016\u001b[0m     localctx \u001b[38;5;241m=\u001b[39m PSParser\u001b[38;5;241m.\u001b[39mMathContext(\u001b[38;5;28mself\u001b[39m, \u001b[38;5;28mself\u001b[39m\u001b[38;5;241m.\u001b[39m_ctx, \u001b[38;5;28mself\u001b[39m\u001b[38;5;241m.\u001b[39mstate)\n\u001b[1;32m-> 1017\u001b[0m     \u001b[38;5;28;43mself\u001b[39;49m\u001b[38;5;241;43m.\u001b[39;49m\u001b[43menterRule\u001b[49m\u001b[43m(\u001b[49m\u001b[43mlocalctx\u001b[49m\u001b[43m,\u001b[49m\u001b[43m \u001b[49m\u001b[38;5;241;43m2\u001b[39;49m\u001b[43m,\u001b[49m\u001b[43m \u001b[49m\u001b[38;5;28;43mself\u001b[39;49m\u001b[38;5;241;43m.\u001b[39;49m\u001b[43mRULE_math\u001b[49m\u001b[43m)\u001b[49m\n\u001b[0;32m   1018\u001b[0m     \u001b[38;5;28;01mtry\u001b[39;00m:\n\u001b[0;32m   1019\u001b[0m         \u001b[38;5;28mself\u001b[39m\u001b[38;5;241m.\u001b[39mstate \u001b[38;5;241m=\u001b[39m \u001b[38;5;241m130\u001b[39m\n",
      "File \u001b[1;32mc:\\UTFPR\\24_1\\math_solver\\.venv\\Lib\\site-packages\\antlr4\\Parser.py:366\u001b[0m, in \u001b[0;36mParser.enterRule\u001b[1;34m(self, localctx, state, ruleIndex)\u001b[0m\n\u001b[0;32m    364\u001b[0m \u001b[38;5;28mself\u001b[39m\u001b[38;5;241m.\u001b[39mstate \u001b[38;5;241m=\u001b[39m state\n\u001b[0;32m    365\u001b[0m \u001b[38;5;28mself\u001b[39m\u001b[38;5;241m.\u001b[39m_ctx \u001b[38;5;241m=\u001b[39m localctx\n\u001b[1;32m--> 366\u001b[0m \u001b[38;5;28mself\u001b[39m\u001b[38;5;241m.\u001b[39m_ctx\u001b[38;5;241m.\u001b[39mstart \u001b[38;5;241m=\u001b[39m \u001b[38;5;28;43mself\u001b[39;49m\u001b[38;5;241;43m.\u001b[39;49m\u001b[43m_input\u001b[49m\u001b[38;5;241;43m.\u001b[39;49m\u001b[43mLT\u001b[49m\u001b[43m(\u001b[49m\u001b[38;5;241;43m1\u001b[39;49m\u001b[43m)\u001b[49m\n\u001b[0;32m    367\u001b[0m \u001b[38;5;28;01mif\u001b[39;00m \u001b[38;5;28mself\u001b[39m\u001b[38;5;241m.\u001b[39mbuildParseTrees:\n\u001b[0;32m    368\u001b[0m     \u001b[38;5;28mself\u001b[39m\u001b[38;5;241m.\u001b[39maddContextToParseTree()\n",
      "File \u001b[1;32mc:\\UTFPR\\24_1\\math_solver\\.venv\\Lib\\site-packages\\antlr4\\CommonTokenStream.py:61\u001b[0m, in \u001b[0;36mCommonTokenStream.LT\u001b[1;34m(self, k)\u001b[0m\n\u001b[0;32m     60\u001b[0m \u001b[38;5;28;01mdef\u001b[39;00m \u001b[38;5;21mLT\u001b[39m(\u001b[38;5;28mself\u001b[39m, k:\u001b[38;5;28mint\u001b[39m):\n\u001b[1;32m---> 61\u001b[0m     \u001b[38;5;28;43mself\u001b[39;49m\u001b[38;5;241;43m.\u001b[39;49m\u001b[43mlazyInit\u001b[49m\u001b[43m(\u001b[49m\u001b[43m)\u001b[49m\n\u001b[0;32m     62\u001b[0m     \u001b[38;5;28;01mif\u001b[39;00m k \u001b[38;5;241m==\u001b[39m \u001b[38;5;241m0\u001b[39m:\n\u001b[0;32m     63\u001b[0m         \u001b[38;5;28;01mreturn\u001b[39;00m \u001b[38;5;28;01mNone\u001b[39;00m\n",
      "File \u001b[1;32mc:\\UTFPR\\24_1\\math_solver\\.venv\\Lib\\site-packages\\antlr4\\BufferedTokenStream.py:186\u001b[0m, in \u001b[0;36mBufferedTokenStream.lazyInit\u001b[1;34m(self)\u001b[0m\n\u001b[0;32m    184\u001b[0m \u001b[38;5;28;01mdef\u001b[39;00m \u001b[38;5;21mlazyInit\u001b[39m(\u001b[38;5;28mself\u001b[39m):\n\u001b[0;32m    185\u001b[0m     \u001b[38;5;28;01mif\u001b[39;00m \u001b[38;5;28mself\u001b[39m\u001b[38;5;241m.\u001b[39mindex \u001b[38;5;241m==\u001b[39m \u001b[38;5;241m-\u001b[39m\u001b[38;5;241m1\u001b[39m:\n\u001b[1;32m--> 186\u001b[0m         \u001b[38;5;28;43mself\u001b[39;49m\u001b[38;5;241;43m.\u001b[39;49m\u001b[43msetup\u001b[49m\u001b[43m(\u001b[49m\u001b[43m)\u001b[49m\n",
      "File \u001b[1;32mc:\\UTFPR\\24_1\\math_solver\\.venv\\Lib\\site-packages\\antlr4\\BufferedTokenStream.py:189\u001b[0m, in \u001b[0;36mBufferedTokenStream.setup\u001b[1;34m(self)\u001b[0m\n\u001b[0;32m    188\u001b[0m \u001b[38;5;28;01mdef\u001b[39;00m \u001b[38;5;21msetup\u001b[39m(\u001b[38;5;28mself\u001b[39m):\n\u001b[1;32m--> 189\u001b[0m     \u001b[38;5;28;43mself\u001b[39;49m\u001b[38;5;241;43m.\u001b[39;49m\u001b[43msync\u001b[49m\u001b[43m(\u001b[49m\u001b[38;5;241;43m0\u001b[39;49m\u001b[43m)\u001b[49m\n\u001b[0;32m    190\u001b[0m     \u001b[38;5;28mself\u001b[39m\u001b[38;5;241m.\u001b[39mindex \u001b[38;5;241m=\u001b[39m \u001b[38;5;28mself\u001b[39m\u001b[38;5;241m.\u001b[39madjustSeekIndex(\u001b[38;5;241m0\u001b[39m)\n",
      "File \u001b[1;32mc:\\UTFPR\\24_1\\math_solver\\.venv\\Lib\\site-packages\\antlr4\\BufferedTokenStream.py:111\u001b[0m, in \u001b[0;36mBufferedTokenStream.sync\u001b[1;34m(self, i)\u001b[0m\n\u001b[0;32m    109\u001b[0m n \u001b[38;5;241m=\u001b[39m i \u001b[38;5;241m-\u001b[39m \u001b[38;5;28mlen\u001b[39m(\u001b[38;5;28mself\u001b[39m\u001b[38;5;241m.\u001b[39mtokens) \u001b[38;5;241m+\u001b[39m \u001b[38;5;241m1\u001b[39m \u001b[38;5;66;03m# how many more elements we need?\u001b[39;00m\n\u001b[0;32m    110\u001b[0m \u001b[38;5;28;01mif\u001b[39;00m n \u001b[38;5;241m>\u001b[39m \u001b[38;5;241m0\u001b[39m :\n\u001b[1;32m--> 111\u001b[0m     fetched \u001b[38;5;241m=\u001b[39m \u001b[38;5;28;43mself\u001b[39;49m\u001b[38;5;241;43m.\u001b[39;49m\u001b[43mfetch\u001b[49m\u001b[43m(\u001b[49m\u001b[43mn\u001b[49m\u001b[43m)\u001b[49m\n\u001b[0;32m    112\u001b[0m     \u001b[38;5;28;01mreturn\u001b[39;00m fetched \u001b[38;5;241m>\u001b[39m\u001b[38;5;241m=\u001b[39m n\n\u001b[0;32m    113\u001b[0m \u001b[38;5;28;01mreturn\u001b[39;00m \u001b[38;5;28;01mTrue\u001b[39;00m\n",
      "File \u001b[1;32mc:\\UTFPR\\24_1\\math_solver\\.venv\\Lib\\site-packages\\antlr4\\BufferedTokenStream.py:123\u001b[0m, in \u001b[0;36mBufferedTokenStream.fetch\u001b[1;34m(self, n)\u001b[0m\n\u001b[0;32m    121\u001b[0m     \u001b[38;5;28;01mreturn\u001b[39;00m \u001b[38;5;241m0\u001b[39m\n\u001b[0;32m    122\u001b[0m \u001b[38;5;28;01mfor\u001b[39;00m i \u001b[38;5;129;01min\u001b[39;00m \u001b[38;5;28mrange\u001b[39m(\u001b[38;5;241m0\u001b[39m, n):\n\u001b[1;32m--> 123\u001b[0m     t \u001b[38;5;241m=\u001b[39m \u001b[38;5;28;43mself\u001b[39;49m\u001b[38;5;241;43m.\u001b[39;49m\u001b[43mtokenSource\u001b[49m\u001b[38;5;241;43m.\u001b[39;49m\u001b[43mnextToken\u001b[49m\u001b[43m(\u001b[49m\u001b[43m)\u001b[49m\n\u001b[0;32m    124\u001b[0m     t\u001b[38;5;241m.\u001b[39mtokenIndex \u001b[38;5;241m=\u001b[39m \u001b[38;5;28mlen\u001b[39m(\u001b[38;5;28mself\u001b[39m\u001b[38;5;241m.\u001b[39mtokens)\n\u001b[0;32m    125\u001b[0m     \u001b[38;5;28mself\u001b[39m\u001b[38;5;241m.\u001b[39mtokens\u001b[38;5;241m.\u001b[39mappend(t)\n",
      "File \u001b[1;32mc:\\UTFPR\\24_1\\math_solver\\.venv\\Lib\\site-packages\\antlr4\\Lexer.py:130\u001b[0m, in \u001b[0;36mLexer.nextToken\u001b[1;34m(self)\u001b[0m\n\u001b[0;32m    128\u001b[0m     ttype \u001b[38;5;241m=\u001b[39m \u001b[38;5;28mself\u001b[39m\u001b[38;5;241m.\u001b[39m_interp\u001b[38;5;241m.\u001b[39mmatch(\u001b[38;5;28mself\u001b[39m\u001b[38;5;241m.\u001b[39m_input, \u001b[38;5;28mself\u001b[39m\u001b[38;5;241m.\u001b[39m_mode)\n\u001b[0;32m    129\u001b[0m \u001b[38;5;28;01mexcept\u001b[39;00m LexerNoViableAltException \u001b[38;5;28;01mas\u001b[39;00m e:\n\u001b[1;32m--> 130\u001b[0m     \u001b[38;5;28;43mself\u001b[39;49m\u001b[38;5;241;43m.\u001b[39;49m\u001b[43mnotifyListeners\u001b[49m\u001b[43m(\u001b[49m\u001b[43me\u001b[49m\u001b[43m)\u001b[49m\t\t\u001b[38;5;66;03m# report error\u001b[39;00m\n\u001b[0;32m    131\u001b[0m     \u001b[38;5;28mself\u001b[39m\u001b[38;5;241m.\u001b[39mrecover(e)\n\u001b[0;32m    132\u001b[0m \u001b[38;5;28;01mif\u001b[39;00m \u001b[38;5;28mself\u001b[39m\u001b[38;5;241m.\u001b[39m_input\u001b[38;5;241m.\u001b[39mLA(\u001b[38;5;241m1\u001b[39m)\u001b[38;5;241m==\u001b[39mToken\u001b[38;5;241m.\u001b[39mEOF:\n",
      "File \u001b[1;32mc:\\UTFPR\\24_1\\math_solver\\.venv\\Lib\\site-packages\\antlr4\\Lexer.py:285\u001b[0m, in \u001b[0;36mLexer.notifyListeners\u001b[1;34m(self, e)\u001b[0m\n\u001b[0;32m    283\u001b[0m msg \u001b[38;5;241m=\u001b[39m \u001b[38;5;124m\"\u001b[39m\u001b[38;5;124mtoken recognition error at: \u001b[39m\u001b[38;5;124m'\u001b[39m\u001b[38;5;124m\"\u001b[39m \u001b[38;5;241m+\u001b[39m \u001b[38;5;28mself\u001b[39m\u001b[38;5;241m.\u001b[39mgetErrorDisplay(text) \u001b[38;5;241m+\u001b[39m \u001b[38;5;124m\"\u001b[39m\u001b[38;5;124m'\u001b[39m\u001b[38;5;124m\"\u001b[39m\n\u001b[0;32m    284\u001b[0m listener \u001b[38;5;241m=\u001b[39m \u001b[38;5;28mself\u001b[39m\u001b[38;5;241m.\u001b[39mgetErrorListenerDispatch()\n\u001b[1;32m--> 285\u001b[0m \u001b[43mlistener\u001b[49m\u001b[38;5;241;43m.\u001b[39;49m\u001b[43msyntaxError\u001b[49m\u001b[43m(\u001b[49m\u001b[38;5;28;43mself\u001b[39;49m\u001b[43m,\u001b[49m\u001b[43m \u001b[49m\u001b[38;5;28;43;01mNone\u001b[39;49;00m\u001b[43m,\u001b[49m\u001b[43m \u001b[49m\u001b[38;5;28;43mself\u001b[39;49m\u001b[38;5;241;43m.\u001b[39;49m\u001b[43m_tokenStartLine\u001b[49m\u001b[43m,\u001b[49m\u001b[43m \u001b[49m\u001b[38;5;28;43mself\u001b[39;49m\u001b[38;5;241;43m.\u001b[39;49m\u001b[43m_tokenStartColumn\u001b[49m\u001b[43m,\u001b[49m\u001b[43m \u001b[49m\u001b[43mmsg\u001b[49m\u001b[43m,\u001b[49m\u001b[43m \u001b[49m\u001b[43me\u001b[49m\u001b[43m)\u001b[49m\n",
      "File \u001b[1;32mc:\\UTFPR\\24_1\\math_solver\\.venv\\Lib\\site-packages\\antlr4\\error\\ErrorListener.py:60\u001b[0m, in \u001b[0;36mProxyErrorListener.syntaxError\u001b[1;34m(self, recognizer, offendingSymbol, line, column, msg, e)\u001b[0m\n\u001b[0;32m     58\u001b[0m \u001b[38;5;28;01mdef\u001b[39;00m \u001b[38;5;21msyntaxError\u001b[39m(\u001b[38;5;28mself\u001b[39m, recognizer, offendingSymbol, line, column, msg, e):\n\u001b[0;32m     59\u001b[0m     \u001b[38;5;28;01mfor\u001b[39;00m delegate \u001b[38;5;129;01min\u001b[39;00m \u001b[38;5;28mself\u001b[39m\u001b[38;5;241m.\u001b[39mdelegates:\n\u001b[1;32m---> 60\u001b[0m         \u001b[43mdelegate\u001b[49m\u001b[38;5;241;43m.\u001b[39;49m\u001b[43msyntaxError\u001b[49m\u001b[43m(\u001b[49m\u001b[43mrecognizer\u001b[49m\u001b[43m,\u001b[49m\u001b[43m \u001b[49m\u001b[43moffendingSymbol\u001b[49m\u001b[43m,\u001b[49m\u001b[43m \u001b[49m\u001b[43mline\u001b[49m\u001b[43m,\u001b[49m\u001b[43m \u001b[49m\u001b[43mcolumn\u001b[49m\u001b[43m,\u001b[49m\u001b[43m \u001b[49m\u001b[43mmsg\u001b[49m\u001b[43m,\u001b[49m\u001b[43m \u001b[49m\u001b[43me\u001b[49m\u001b[43m)\u001b[49m\n",
      "File \u001b[1;32mc:\\UTFPR\\24_1\\math_solver\\.venv\\Lib\\site-packages\\latex2sympy2.py:141\u001b[0m, in \u001b[0;36mMathErrorListener.syntaxError\u001b[1;34m(self, recog, symbol, line, col, msg, e)\u001b[0m\n\u001b[0;32m    139\u001b[0m \u001b[38;5;28;01melse\u001b[39;00m:\n\u001b[0;32m    140\u001b[0m     err \u001b[38;5;241m=\u001b[39m fmt \u001b[38;5;241m%\u001b[39m (\u001b[38;5;124m\"\u001b[39m\u001b[38;5;124mI don\u001b[39m\u001b[38;5;124m'\u001b[39m\u001b[38;5;124mt understand this\u001b[39m\u001b[38;5;124m\"\u001b[39m, \u001b[38;5;28mself\u001b[39m\u001b[38;5;241m.\u001b[39msrc, marker)\n\u001b[1;32m--> 141\u001b[0m \u001b[38;5;28;01mraise\u001b[39;00m \u001b[38;5;167;01mException\u001b[39;00m(err)\n",
      "\u001b[1;31mException\u001b[0m: I don't understand this\n\\scriptstyle{x^{2}-9 X+i S\\cdot6}\n^"
     ]
    }
   ],
   "source": [
    "expressao_sympy = latex2sympy(filtered_latex)\n",
    "# expressao_sympy = latex2sympy('(x+2)(x-5)=x^{2}-2x-15')\n",
    "print(expressao_sympy)"
   ]
  },
  {
   "cell_type": "code",
   "execution_count": null,
   "metadata": {},
   "outputs": [],
   "source": [
    "def solve_equation(equation):\n",
    "    # Detectar o caso baseado no conteúdo da equação\n",
    "    if isinstance(equation, list):\n",
    "        left_expr = equation[0].lhs\n",
    "        right_expr = equation[0].rhs\n",
    "    else:\n",
    "        if \"=\" in str(equation):\n",
    "            left_expr = equation.lhs\n",
    "            right_expr = equation.rhs\n",
    "        else:\n",
    "            left_expr = equation\n",
    "            right_expr = sp.S.Zero\n",
    "\n",
    "    # Tentar converter as expressões para símbolos\n",
    "    try:\n",
    "        left_expr = sp.sympify(left_expr)\n",
    "        right_expr = sp.sympify(right_expr)\n",
    "    except sp.SympifyError:\n",
    "        return \"Equação inválida\"\n",
    "\n",
    "    # Caso 1: equação apenas numérica\n",
    "    if left_expr.is_number and right_expr.is_number:\n",
    "        result = left_expr - right_expr\n",
    "        return result.evalf()  # Usar evalf() para obter o valor numérico\n",
    "\n",
    "    # Caso 2 e 3: equações com variáveis\n",
    "    variables = list(left_expr.free_symbols | right_expr.free_symbols)\n",
    "\n",
    "    # Resolver a equação usando solve\n",
    "    solutions = sp.solve(left_expr - right_expr, variables)\n",
    "\n",
    "    # Melhorar a legibilidade das soluções\n",
    "    numeric_solutions = [sol.evalf() for sol in solutions]\n",
    "    \n",
    "    return numeric_solutions"
   ]
  },
  {
   "cell_type": "code",
   "execution_count": null,
   "metadata": {},
   "outputs": [
    {
     "data": {
      "text/plain": [
       "[5.00000000000000]"
      ]
     },
     "execution_count": 135,
     "metadata": {},
     "output_type": "execute_result"
    }
   ],
   "source": [
    "solucao = solve_equation(expressao_sympy)\n",
    "solucao"
   ]
  }
 ],
 "metadata": {
  "kernelspec": {
   "display_name": "Python 3",
   "language": "python",
   "name": "python3"
  },
  "language_info": {
   "codemirror_mode": {
    "name": "ipython",
    "version": 3
   },
   "file_extension": ".py",
   "mimetype": "text/x-python",
   "name": "python",
   "nbconvert_exporter": "python",
   "pygments_lexer": "ipython3",
   "version": "3.12.2"
  }
 },
 "nbformat": 4,
 "nbformat_minor": 2
}
